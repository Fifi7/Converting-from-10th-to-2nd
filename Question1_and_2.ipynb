{
  "nbformat": 4,
  "nbformat_minor": 0,
  "metadata": {
    "colab": {
      "provenance": [],
      "authorship_tag": "ABX9TyMjQHcCQRnpNbx03Lkf5Ip7",
      "include_colab_link": true
    },
    "kernelspec": {
      "name": "python3",
      "display_name": "Python 3"
    },
    "language_info": {
      "name": "python"
    }
  },
  "cells": [
    {
      "cell_type": "markdown",
      "metadata": {
        "id": "view-in-github",
        "colab_type": "text"
      },
      "source": [
        "<a href=\"https://colab.research.google.com/github/Fifi7/Converting-from-10th-to-2nd/blob/main/Question1_and_2.ipynb\" target=\"_parent\"><img src=\"https://colab.research.google.com/assets/colab-badge.svg\" alt=\"Open In Colab\"/></a>"
      ]
    },
    {
      "cell_type": "code",
      "execution_count": null,
      "metadata": {
        "colab": {
          "base_uri": "https://localhost:8080/"
        },
        "id": "UzDfK9m04gyJ",
        "outputId": "a55f05ee-8e9d-495b-db5c-fb65cb8b1238"
      },
      "outputs": [
        {
          "output_type": "stream",
          "name": "stdout",
          "text": [
            "Number \tSquare\n",
            "1 \t 1\n",
            "2 \t 4\n",
            "3 \t 9\n",
            "4 \t 16\n",
            "5 \t 25\n"
          ]
        }
      ],
      "source": [
        "# Python program that outputs a sequence of numbers and their square roots using the ** operator:\n",
        "\n",
        "number = 1\n",
        "\n",
        "print (\"Number\" , '\\t' \"Square\")\n",
        "\n",
        "while number <= 5 :\n",
        "    print (number, '\\t', number ** 2) # **2 it's showing that is number to the power of 2\n",
        "\n",
        "    number += 1                       # This part increments to the next line, otherwise it is going to have an infinite loop!"
      ]
    },
    {
      "cell_type": "code",
      "source": [
        "user_input = input (\"input string: \")  #This program prints out the length of the strings that the user inputs\n",
        "empty_string = \" \"\n",
        "\n",
        "x = len(user_input)                    #This is where the user inputs are stored\n",
        "y = len(empty_string)\n",
        "\n",
        "if x == 0:\n",
        "    print(y, \"because it is an empty string\")\n",
        "else :\n",
        "    print(x, \"because it has \", x, \"characters\")\n",
        "\n",
        "\n",
        "    #Our program doesn't recognize the empty string as being empty, it takes it as a number of characters can you please advice  us during code review.\n"
      ],
      "metadata": {
        "colab": {
          "base_uri": "https://localhost:8080/"
        },
        "id": "9E1ujE2h6gzm",
        "outputId": "d386e732-00ea-49dd-9c76-5dbd0edfff2f"
      },
      "execution_count": null,
      "outputs": [
        {
          "output_type": "stream",
          "name": "stdout",
          "text": [
            "input string: fifi\n",
            "4 because it has  4 characters\n"
          ]
        }
      ]
    },
    {
      "cell_type": "code",
      "source": [
        "def my_string(string,i):\n",
        "                                    #This program outputs the character at a specified index from the given string\n",
        "    if len(string) == 0:\n",
        "\n",
        "        return \"Empty String\"\n",
        "\n",
        "    elif i > len(string):\n",
        "\n",
        "        return \"i is out of range\"       \n",
        "    else:\n",
        "        print (string[i])\n",
        "    \n",
        "my_string(\"Live Happily\",5)       #You can change the index when testing it, in this case the index is 5, which outputs character H. \n",
        "                                  #If the index is 12 it's going to return i is out of range."
      ],
      "metadata": {
        "colab": {
          "base_uri": "https://localhost:8080/"
        },
        "id": "yErNlQz6Mob_",
        "outputId": "cf11bf52-482a-4991-c5f0-da99c50f17c5"
      },
      "execution_count": null,
      "outputs": [
        {
          "output_type": "stream",
          "name": "stdout",
          "text": [
            "H\n"
          ]
        }
      ]
    }
  ]
}